{
 "cells": [
  {
   "cell_type": "markdown",
   "metadata": {},
   "source": ["# 📊 Data Preprocessing Notebook\nThis notebook demonstrates data loading, cleaning, feature engineering, and visualization."]
  },
  {
   "cell_type": "code",
   "execution_count": null,
   "metadata": {},
   "outputs": [],
   "source": [
    "import pandas as pd\nimport matplotlib.pyplot as plt\nimport seaborn as sns\n\ndf = pd.read_csv('../data/raw_data.csv')\ndf['TotalCharges'] = pd.to_numeric(df['TotalCharges'], errors='coerce')\ndf.dropna(inplace=True)\ndf['AvgCharges'] = df['TotalCharges'] / df['tenure']\ndf.describe()"
   ]
  },
  {
   "cell_type": "code",
   "execution_count": null,
   "metadata": {},
   "outputs": [],
   "source": [
    "# Heatmap\ncorr = df.corr()\nsns.heatmap(corr, annot=True, cmap='coolwarm')\nplt.title('Correlation Heatmap')\nplt.show()"
   ]
  }
 ],
 "metadata": {
  "kernelspec": {
   "display_name": "Python 3",
   "language": "python",
   "name": "python3"
  },
  "language_info": {
   "name": "python",
   "version": "3.8"
  }
 },
 "nbformat": 4,
 "nbformat_minor": 4
}